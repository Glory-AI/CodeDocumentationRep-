{
  "nbformat": 4,
  "nbformat_minor": 0,
  "metadata": {
    "colab": {
      "provenance": [],
      "include_colab_link": true
    },
    "kernelspec": {
      "name": "python3",
      "display_name": "Python 3"
    },
    "language_info": {
      "name": "python"
    }
  },
  "cells": [
    {
      "cell_type": "markdown",
      "metadata": {
        "id": "view-in-github",
        "colab_type": "text"
      },
      "source": [
        "<a href=\"https://colab.research.google.com/github/Glory-AI/CodeDocumentationRep-/blob/main/File_Handling_.ipynb\" target=\"_parent\"><img src=\"https://colab.research.google.com/assets/colab-badge.svg\" alt=\"Open In Colab\"/></a>"
      ]
    },
    {
      "cell_type": "code",
      "execution_count": 1,
      "metadata": {
        "colab": {
          "base_uri": "https://localhost:8080/"
        },
        "id": "R_glauiwvDgr",
        "outputId": "46380a0f-9cfc-4fdc-db87-83f535bca5e1"
      },
      "outputs": [
        {
          "output_type": "stream",
          "name": "stdout",
          "text": [
            "Read entire file:\n",
            " Voltage,Current,Power\n",
            "220,5,1100\n",
            "240,4.5,1080\n",
            "\n",
            "First line: Voltage,Current,Power\n",
            "Second line: 220,5,1100\n",
            "All lines: ['Voltage,Current,Power\\n', '220,5,1100\\n', '240,4.5,1080\\n']\n"
          ]
        }
      ],
      "source": [
        "# Create and write to a file\n",
        "fn =  \"smart_meter_readings.csv\"\n",
        "fh = open(fn, 'w')\n",
        "fh.write(\"Voltage,Current,Power\\n\")\n",
        "fh.write(\"220,5,1100\\n\")\n",
        "fh.write(\"240,4.5,1080\\n\")\n",
        "fh.close()\n",
        "\n",
        "# Open the file for reading\n",
        "fh = open(fn, 'r')\n",
        "contents = fh.read()\n",
        "print(\"Read entire file:\\n\", contents)\n",
        "fh.close()\n",
        "\n",
        "# Open the file for reading a line at a time\n",
        "fh = open(fn, 'r')\n",
        "line1 = fh.readline()\n",
        "line2 = fh.readline()\n",
        "print(\"First line:\", line1.strip())\n",
        "print(\"Second line:\", line2.strip())\n",
        "fh.close()\n",
        "\n",
        "# Open the file for reading all lines into a list\n",
        "fh = open(fn, 'r')\n",
        "lines = fh.readlines()\n",
        "print(\"All lines:\", lines)\n",
        "fh.close()\n",
        "\n",
        "# Open the file for appending\n",
        "fh = open(fn, 'a')\n",
        "fh.write(\"230,4.8,1104\\n\")\n",
        "fh.close()\n",
        "\n",
        "# Write multiple lines using writelines\n",
        "more_data = [\"210,5.1,1071\\n\", \"225,5.0,1125\\n\"]\n",
        "fh = open(fn, 'a')\n",
        "fh.writelines(more_data)\n",
        "fh.close()\n"
      ]
    }
  ]
}