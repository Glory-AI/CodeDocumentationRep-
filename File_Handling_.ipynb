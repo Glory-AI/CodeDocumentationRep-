{
  "nbformat": 4,
  "nbformat_minor": 0,
  "metadata": {
    "colab": {
      "provenance": [],
      "authorship_tag": "ABX9TyOYsfTsuepo7D1dZ0O8Cyql",
      "include_colab_link": true
    },
    "kernelspec": {
      "name": "python3",
      "display_name": "Python 3"
    },
    "language_info": {
      "name": "python"
    }
  },
  "cells": [
    {
      "cell_type": "markdown",
      "metadata": {
        "id": "view-in-github",
        "colab_type": "text"
      },
      "source": [
        "<a href=\"https://colab.research.google.com/github/Glory-AI/CodeDocumentationRep-/blob/main/File_Handling_.ipynb\" target=\"_parent\"><img src=\"https://colab.research.google.com/assets/colab-badge.svg\" alt=\"Open In Colab\"/></a>"
      ]
    },
    {
      "cell_type": "code",
      "execution_count": 3,
      "metadata": {
        "colab": {
          "base_uri": "https://localhost:8080/",
          "height": 124
        },
        "id": "R_glauiwvDgr",
        "outputId": "f7b2eb17-1f59-43be-9f64-42ce34467cb4"
      },
      "outputs": [
        {
          "output_type": "error",
          "ename": "SyntaxError",
          "evalue": "(unicode error) 'unicodeescape' codec can't decode bytes in position 2-3: truncated \\UXXXXXXXX escape (<ipython-input-3-58e0de942098>, line 2)",
          "traceback": [
            "\u001b[0;36m  File \u001b[0;32m\"<ipython-input-3-58e0de942098>\"\u001b[0;36m, line \u001b[0;32m2\u001b[0m\n\u001b[0;31m    fn =  \"C:\\Users\\AKANBI GLORY\\Downloads\\smart_meter_readings.csv\"\u001b[0m\n\u001b[0m                                                                     ^\u001b[0m\n\u001b[0;31mSyntaxError\u001b[0m\u001b[0;31m:\u001b[0m (unicode error) 'unicodeescape' codec can't decode bytes in position 2-3: truncated \\UXXXXXXXX escape\n"
          ]
        }
      ],
      "source": [
        "# Create and write to a file\n",
        "fn =  \"smart_meter_readings.csv\"\n",
        "fh = open(fn, 'w')\n",
        "fh.write(\"Voltage,Current,Power\\n\")\n",
        "fh.write(\"220,5,1100\\n\")\n",
        "fh.write(\"240,4.5,1080\\n\")\n",
        "fh.close()\n",
        "\n",
        "# Open the file for reading\n",
        "fh = open(fn, 'r')\n",
        "contents = fh.read()\n",
        "print(\"Read entire file:\\n\", contents)\n",
        "fh.close()\n",
        "\n",
        "# Open the file for reading a line at a time\n",
        "fh = open(fn, 'r')\n",
        "line1 = fh.readline()\n",
        "line2 = fh.readline()\n",
        "print(\"First line:\", line1.strip())\n",
        "print(\"Second line:\", line2.strip())\n",
        "fh.close()\n",
        "\n",
        "# Open the file for reading all lines into a list\n",
        "fh = open(fn, 'r')\n",
        "lines = fh.readlines()\n",
        "print(\"All lines:\", lines)\n",
        "fh.close()\n",
        "\n",
        "# Open the file for appending\n",
        "fh = open(fn, 'a')\n",
        "fh.write(\"230,4.8,1104\\n\")\n",
        "fh.close()\n",
        "\n",
        "# Write multiple lines using writelines\n",
        "more_data = [\"210,5.1,1071\\n\", \"225,5.0,1125\\n\"]\n",
        "fh = open(fn, 'a')\n",
        "fh.writelines(more_data)\n",
        "fh.close()\n"
      ]
    }
  ]
}
