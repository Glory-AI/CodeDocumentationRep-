{
  "nbformat": 4,
  "nbformat_minor": 0,
  "metadata": {
    "colab": {
      "provenance": [],
      "authorship_tag": "ABX9TyNWcTHNZiVJ2En8lI1CBjty",
      "include_colab_link": true
    },
    "kernelspec": {
      "name": "python3",
      "display_name": "Python 3"
    },
    "language_info": {
      "name": "python"
    }
  },
  "cells": [
    {
      "cell_type": "markdown",
      "metadata": {
        "id": "view-in-github",
        "colab_type": "text"
      },
      "source": [
        "<a href=\"https://colab.research.google.com/github/Glory-AI/CodeDocumentationRep-/blob/main/Data_Structures.ipynb\" target=\"_parent\"><img src=\"https://colab.research.google.com/assets/colab-badge.svg\" alt=\"Open In Colab\"/></a>"
      ]
    },
    {
      "cell_type": "markdown",
      "source": [
        "Tuples are data structures that are immutable i.e their values can't be changed after creation.\n",
        "\n",
        "Lists are mutable data structures and are used when your data needs to be updated dynamically."
      ],
      "metadata": {
        "id": "PScJMBG8R6kv"
      }
    },
    {
      "cell_type": "code",
      "execution_count": 7,
      "metadata": {
        "colab": {
          "base_uri": "https://localhost:8080/"
        },
        "id": "Mk18lLCgRxB6",
        "outputId": "9ef5f6a5-594c-4b92-f86e-1dde67efce71"
      },
      "outputs": [
        {
          "output_type": "stream",
          "name": "stdout",
          "text": [
            "(1, 'Day11', True)\n",
            "2\n",
            "((1, 'Day11', True), 2, 3)\n"
          ]
        }
      ],
      "source": [
        "my_tuple= (1, 'Day11', True) #this tuple contains integer, string, boolean data types\n",
        "#my_tuple[1]= 'Today' #will return an error because a tuple doesn't support mutability\n",
        "print(my_tuple)\n",
        "print(my_tuple.count(1)) #outputs 2 because the Boolean True can be expressed as 1\n",
        "tup= (my_tuple, 2, 3) #nested tuple\n",
        "print(tup)"
      ]
    },
    {
      "cell_type": "code",
      "source": [
        "my_list= ['Engineering', 12, 5.0]\n",
        "list()\n",
        "print(my_list)\n",
        "my_list[0]= 'Science' #demonstrating list mutability which is supported\n",
        "print(my_list)\n",
        "#methods of a list\n",
        "my_list.append(True)\n",
        "print(my_list)\n",
        "my_list.remove(12)\n",
        "print(my_list)"
      ],
      "metadata": {
        "colab": {
          "base_uri": "https://localhost:8080/"
        },
        "id": "yls8DvTcnys6",
        "outputId": "0f50c69a-029e-4786-d91e-52f1369e7ee3"
      },
      "execution_count": 4,
      "outputs": [
        {
          "output_type": "stream",
          "name": "stdout",
          "text": [
            "['Engineering', 12, 5.0]\n",
            "['Science', 12, 5.0]\n"
          ]
        }
      ]
    },
    {
      "cell_type": "code",
      "source": [
        "my_list1= list(range(1,8,2)) #using the range function\n",
        "print(my_list1)\n",
        "\n",
        "#using range in for loop\n",
        "for t in range(1,5): #prints t from 1 to 4 excluding 5\n",
        "    print (t)"
      ],
      "metadata": {
        "colab": {
          "base_uri": "https://localhost:8080/"
        },
        "id": "Tr60XRg3t976",
        "outputId": "87ed1d7f-1b0f-4b44-c828-ba4610c685c7"
      },
      "execution_count": 9,
      "outputs": [
        {
          "output_type": "stream",
          "name": "stdout",
          "text": [
            "[1, 3, 5, 7]\n",
            "1\n",
            "2\n",
            "3\n",
            "4\n"
          ]
        }
      ]
    }
  ]
}