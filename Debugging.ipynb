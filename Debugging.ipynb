{
  "nbformat": 4,
  "nbformat_minor": 0,
  "metadata": {
    "colab": {
      "provenance": [],
      "authorship_tag": "ABX9TyMYRCfilKB9ftN7PcD3h5/X",
      "include_colab_link": true
    },
    "kernelspec": {
      "name": "python3",
      "display_name": "Python 3"
    },
    "language_info": {
      "name": "python"
    }
  },
  "cells": [
    {
      "cell_type": "markdown",
      "metadata": {
        "id": "view-in-github",
        "colab_type": "text"
      },
      "source": [
        "<a href=\"https://colab.research.google.com/github/Glory-AI/CodeDocumentationRep-/blob/main/Debugging.ipynb\" target=\"_parent\"><img src=\"https://colab.research.google.com/assets/colab-badge.svg\" alt=\"Open In Colab\"/></a>"
      ]
    },
    {
      "cell_type": "markdown",
      "source": [
        "Debugging- A search Process, Ways To Debug\n",
        "\n",
        "This comes into play when TESTING- like I explained yesterday has shown that your program behaves in undesirable ways. This undesirable behavior has to be accounted for and that is why debugging is a search process.\n",
        "There are some inbuilt debugging programs in some IDEs.\n",
        "\n",
        "THE SEARCH PROCESS:\n",
        "Study available data i.e the result of the testing you conducted(both the one that revealed the issue and those that worked just fine. PS: Just keep it in mind to assume that you dont k'now about the workings of the program prior)\n",
        "\n",
        "Next, create an hypothesis to solve the problem e.g one you observe works with all data.\n",
        "\n",
        "Design, conduct an experiment to prove the hypothesis invalid so that you can know if it is actually a good hypothesis.(but remember to keep in mind how you would interpret the results you get from the experiment)\n",
        "\n",
        "Keep records of the experiments you have tried.\n",
        "\n",
        "\n"
      ],
      "metadata": {
        "id": "TrEuDddcQ4iF"
      }
    },
    {
      "cell_type": "code",
      "source": [
        "#DEsigning the experiment\n",
        "#Like I explained esarlier, conducting and keeping track of experiments is important.\n",
        "# As you are conducting them, you are improving the search space by reducing\n",
        "#it(which is doing it region by region of your code/ by reducuing the test data needed to provoke the bug's manifestation)\n",
        "\n",
        "def is_pal(x):\n",
        "  temp= x[:] #assumes x is a list and stores it into another variable for comparison\n",
        "  temp.reverse()\n",
        "  return temp == x\n",
        "\n",
        "\n",
        "\n",
        "#TESTING BLOCK\n",
        "def silly(p): #p is the total number of inputs from user\n",
        "  result= []\n",
        "  for i in range(p):\n",
        "    elem= input(\"Enter element:\")\n",
        "    result.append(elem)\n",
        "  if is_pal(result):\n",
        "      print(\"Yes\")\n",
        "  else:\n",
        "      print(\"No\")"
      ],
      "metadata": {
        "id": "E1bA_oanXTd5"
      },
      "execution_count": 8,
      "outputs": []
    },
    {
      "cell_type": "code",
      "source": [
        "#trying the test code on a very small set of data\n",
        "silly(2)"
      ],
      "metadata": {
        "colab": {
          "base_uri": "https://localhost:8080/"
        },
        "id": "nWTNjusycrAV",
        "outputId": "19541ecc-c37f-4071-cba1-209c71033512"
      },
      "execution_count": 9,
      "outputs": [
        {
          "output_type": "stream",
          "name": "stdout",
          "text": [
            "Enter element:r\n",
            "Enter element:e\n",
            "['r', 'e']\n",
            "No\n"
          ]
        }
      ]
    },
    {
      "cell_type": "markdown",
      "source": [
        "Let us conduct binary search on the codeblock to analyse the testing process"
      ],
      "metadata": {
        "id": "26yXllV9m8n9"
      }
    },
    {
      "cell_type": "code",
      "source": [
        "def is_pal(x):\n",
        "  temp= x[:] #assumes x is a list and stores it into another variable for comparison\n",
        "  temp.reverse()\n",
        "  print(temp,x)\n",
        "  return temp ==  x\n",
        "\n",
        "#TESTING BLOCK\n",
        "def silly(p): #p is the total number of inputs from user\n",
        "  result= [] # this was brought outside of the for loop to ensure that the program does not print single values\n",
        "  for i in range(p):\n",
        "    elem= input(\"Enter element:\")\n",
        "    result.append(elem)\n",
        "  print(result) #added this line of code to see the output of the list\n",
        "  #reducing the search space by dividing the function into two and analysing one by one\n",
        "  if is_pal(result):\n",
        "      print(\"Yes\")\n",
        "  else:\n",
        "      print(\"No\")\n"
      ],
      "metadata": {
        "id": "Vh2OdeMueYpX"
      },
      "execution_count": 22,
      "outputs": []
    },
    {
      "cell_type": "code",
      "source": [
        "y= ['a', 'b', 'c']\n",
        "\n",
        "is_pal(y)"
      ],
      "metadata": {
        "colab": {
          "base_uri": "https://localhost:8080/"
        },
        "id": "u0fD_nwsgVGU",
        "outputId": "d599718f-2e53-4e76-b297-287cb1ea8d5f"
      },
      "execution_count": 21,
      "outputs": [
        {
          "output_type": "stream",
          "name": "stdout",
          "text": [
            "['c', 'b', 'a'] ['a', 'b', 'c']\n"
          ]
        },
        {
          "output_type": "execute_result",
          "data": {
            "text/plain": [
              "False"
            ]
          },
          "metadata": {},
          "execution_count": 21
        }
      ]
    }
  ]
}