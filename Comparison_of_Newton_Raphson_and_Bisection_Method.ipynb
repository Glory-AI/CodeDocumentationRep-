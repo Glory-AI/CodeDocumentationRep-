{
  "nbformat": 4,
  "nbformat_minor": 0,
  "metadata": {
    "colab": {
      "provenance": [],
      "authorship_tag": "ABX9TyOVjX1ba0YRJg2aYfBi9Ns/",
      "include_colab_link": true
    },
    "kernelspec": {
      "name": "python3",
      "display_name": "Python 3"
    },
    "language_info": {
      "name": "python"
    }
  },
  "cells": [
    {
      "cell_type": "markdown",
      "metadata": {
        "id": "view-in-github",
        "colab_type": "text"
      },
      "source": [
        "<a href=\"https://colab.research.google.com/github/Glory-AI/CodeDocumentationRep-/blob/main/Comparison_of_Newton_Raphson_and_Bisection_Method.ipynb\" target=\"_parent\"><img src=\"https://colab.research.google.com/assets/colab-badge.svg\" alt=\"Open In Colab\"/></a>"
      ]
    },
    {
      "cell_type": "code",
      "source": [
        "exp= 2.718281828\n",
        "N = 500\n",
        "Epsilon = 0.000000001\n",
        "a= float(input('Enter value of number you want to execute function on:'))\n",
        "def newt_raph(a, Epsilon):\n",
        "    def fval(t): #this block is responsible for evaluating the function itself\n",
        "       v= t**3 - a\n",
        "       return v\n",
        "    def dfval(t): #creating function for the differential of the given function\n",
        "       dv= 3 * (t**2)\n",
        "       return dv\n",
        "    xi =float(input('Enter initial approximation:'))\n",
        "    print( \"iter.               xk                  f(xk)           Error\")\n",
        "\n",
        "    xk= xi\n",
        "    fxk= fval(xk)\n",
        "    steps= 0\n",
        "    for k in range(1, N+1):\n",
        "         xp= xk #xp holds preceding value since xk will change after each iteration\n",
        "         fxp= fxk\n",
        "         dfxp= dfval(xp)\n",
        "         xk= xp - (fxp/dfxp) #newton raphson's method\n",
        "         fxk= fval(xk) #using the latest approximation for evaluating function\n",
        "         err_or= abs(xk-xp) #calculating difference between successive calculate roots\n",
        "         steps += 1\n",
        "         #in order to detect convergence\n",
        "         print(f\"{k}\\t {xk:.16f}\\t{fxk:.16f}\\t{err_or:.12f}\")\n",
        "         if err_or < Epsilon:\n",
        "           break\n",
        "    if err_or < Epsilon:\n",
        "       print('Required accuracy achieved- good convergence')\n",
        "    else:\n",
        "       print('You have exceeded maximum limit of iterations')\n",
        "    print(f\"Total steps taken: {steps}\")\n",
        "newt_raph(a, Epsilon)"
      ],
      "metadata": {
        "colab": {
          "base_uri": "https://localhost:8080/"
        },
        "id": "DiGNZMKMrWL2",
        "outputId": "31557e13-3898-4ca5-b853-045d189cc845"
      },
      "execution_count": 28,
      "outputs": [
        {
          "output_type": "stream",
          "name": "stdout",
          "text": [
            "Enter value of t:27\n",
            "Enter initial approximation:0.5\n",
            "iter.               xk                  f(xk)           Error\n",
            "1\t 36.3333333333333357\t47937.0370370370437740\t35.833333333333\n",
            "2\t 24.2290398301676859\t14196.5699073398864130\t12.104293503166\n",
            "3\t 16.1680242066286830\t4199.4024768053814114\t8.061015623539\n",
            "4\t 10.8131121373229888\t1237.3057718183094948\t5.354912069306\n",
            "5\t 7.2857149002905128\t359.7377071975828926\t3.527397237032\n",
            "6\t 5.0266934112663915\t100.0127129381302638\t2.259021489024\n",
            "7\t 3.7073156536139873\t23.9540483439959502\t1.319377757652\n",
            "8\t 3.1263659464478408\t3.5576135818536052\t0.580949707166\n",
            "9\t 3.0050388242329005\t0.1362768899696505\t0.121327122215\n",
            "10\t 3.0000084443363386\t0.0002279977229058\t0.005030379897\n",
            "11\t 3.0000000000237690\t0.0000000006417622\t0.000008444313\n",
            "12\t 3.0000000000000000\t0.0000000000000000\t0.000000000024\n",
            "Required accuracy achieved- good convergence\n",
            "Total steps taken: 12\n"
          ]
        }
      ]
    },
    {
      "cell_type": "code",
      "source": [
        "\n",
        "def find_root (number, power, epsilon=0.01):\n",
        "    steps = 0\n",
        "    #since cube root of a negative number is negative, we search within negative range of the number, the same approach to the positive number. If number is 0, high and low are set to 0 [1 is the least positive number and -1 the highest negative number]\n",
        "    low = min(-1, number) if number < 0 else 0\n",
        "    high = max(1, number) if number > 0 else 0\n",
        "    #the low,high is the valid interval that contains cube root\n",
        "    guess = (high + low) / 2.0  #bisection\n",
        "\n",
        "    while abs(guess ** power - number) > epsilon:\n",
        "        if guess ** power < number:\n",
        "        #set low to guess since evaluating for values below guess will cube to something smaller which can be eliminated\n",
        "            low = guess\n",
        "        else:\n",
        "        #set high to guess since evaluating for values above guess willl cube to something bigger which can be eliminated\n",
        "            high = guess\n",
        "        guess = (high + low) / 2.0\n",
        "        steps += 1\n",
        "\n",
        "    return guess, steps\n"
      ],
      "metadata": {
        "id": "507hba2YhUbD"
      },
      "execution_count": 31,
      "outputs": []
    },
    {
      "cell_type": "code",
      "source": [
        "find_root(27, 3)"
      ],
      "metadata": {
        "id": "vZ3DyBu391GX",
        "colab": {
          "base_uri": "https://localhost:8080/"
        },
        "outputId": "232d371f-75a6-4db8-a5e9-5df8d9d2a3d3"
      },
      "execution_count": 32,
      "outputs": [
        {
          "output_type": "execute_result",
          "data": {
            "text/plain": [
              "(3.000091552734375, 14)"
            ]
          },
          "metadata": {},
          "execution_count": 32
        }
      ]
    },
    {
      "cell_type": "markdown",
      "source": [
        "We can see that to find the cube root of 27, the bisection method went through more steps compared to the newton raphson's method."
      ],
      "metadata": {
        "id": "BdRgXCsX_Zb5"
      }
    }
  ]
}