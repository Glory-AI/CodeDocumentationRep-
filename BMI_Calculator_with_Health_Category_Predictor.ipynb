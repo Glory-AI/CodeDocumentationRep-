{
  "nbformat": 4,
  "nbformat_minor": 0,
  "metadata": {
    "colab": {
      "provenance": [],
      "authorship_tag": "ABX9TyPMt07w18W9w2KXhk4tht2M",
      "include_colab_link": true
    },
    "kernelspec": {
      "name": "python3",
      "display_name": "Python 3"
    },
    "language_info": {
      "name": "python"
    }
  },
  "cells": [
    {
      "cell_type": "markdown",
      "metadata": {
        "id": "view-in-github",
        "colab_type": "text"
      },
      "source": [
        "<a href=\"https://colab.research.google.com/github/Glory-AI/CodeDocumentationRep-/blob/main/BMI_Calculator_with_Health_Category_Predictor.ipynb\" target=\"_parent\"><img src=\"https://colab.research.google.com/assets/colab-badge.svg\" alt=\"Open In Colab\"/></a>"
      ]
    },
    {
      "cell_type": "code",
      "execution_count": 19,
      "metadata": {
        "id": "-gxP2h1WeF8j"
      },
      "outputs": [],
      "source": [
        "# BMI Calculator with Health Category Predictor\n",
        "\n",
        "#accepts user height and weight and calculates bmi\n",
        "#then it stores it in a file for later/further analysis\n",
        "\n",
        "#I'll be using modularization for this project to ease cases of debugging and function calling\n"
      ]
    },
    {
      "cell_type": "code",
      "source": [
        "#libraries to help for writing into file\n",
        "import csv\n",
        "import os"
      ],
      "metadata": {
        "id": "BpU48foQkihs"
      },
      "execution_count": 20,
      "outputs": []
    },
    {
      "cell_type": "code",
      "source": [
        "def calculate_bmi(height, weight):\n",
        "    bmi = weight / (height ** 2)\n",
        "    return round(bmi, 2) #round up bmi claculation result to two decimal places"
      ],
      "metadata": {
        "id": "4IAHLsy9gUqZ"
      },
      "execution_count": 21,
      "outputs": []
    },
    {
      "cell_type": "code",
      "source": [
        "#categorizing the bmi of entries\n",
        "# 18.5 24.9 29.9 (bmi) are the thresholds for classifications- underweight, normal\n",
        "#and overweight respectively. Obese is the classification for bmi greater tha these thresholds\n",
        "def classify_bmi(bmi):\n",
        "    if bmi < 18.5:\n",
        "        return \"Underweight\"\n",
        "    elif 18.5 <= bmi < 24.9:\n",
        "        return \"Normal\"\n",
        "    elif 24.9 <= bmi < 29.9:\n",
        "        return \"Overweight\"\n",
        "    else:\n",
        "        return \"Obese\""
      ],
      "metadata": {
        "id": "QQDjR2GNgaod"
      },
      "execution_count": 22,
      "outputs": []
    },
    {
      "cell_type": "code",
      "source": [
        "#getting inputs from users\n",
        "#using float as values of these variables are not usually in whole number\n",
        "name = input(\"Enter your name: \")\n",
        "height = float(input(\"Enter your height in meters: \"))\n",
        "weight = float(input(\"Enter your weight in kilograms: \"))"
      ],
      "metadata": {
        "colab": {
          "base_uri": "https://localhost:8080/"
        },
        "id": "yHIb_tIYic8f",
        "outputId": "bb44867e-7702-4284-e29b-b426e262453d"
      },
      "execution_count": 23,
      "outputs": [
        {
          "name": "stdout",
          "output_type": "stream",
          "text": [
            "Enter your name: Wiley\n",
            "Enter your height in meters: 20\n",
            "Enter your weight in kilograms: 45\n"
          ]
        }
      ]
    },
    {
      "cell_type": "code",
      "source": [
        "bmi= calculate_bmi(height, weight)\n",
        "category = classify_bmi(bmi)"
      ],
      "metadata": {
        "id": "Y-gX4aVxigO9"
      },
      "execution_count": 24,
      "outputs": []
    },
    {
      "cell_type": "code",
      "source": [
        "print(f\" {name}, your BMI is: {bmi} and you are classified as {category}\")"
      ],
      "metadata": {
        "colab": {
          "base_uri": "https://localhost:8080/"
        },
        "id": "ecrUpK45jVmx",
        "outputId": "bcdb4e57-4125-465a-fb1c-8b40582b6852"
      },
      "execution_count": 25,
      "outputs": [
        {
          "output_type": "stream",
          "name": "stdout",
          "text": [
            " Wiley, your BMI is: 0.11 and you are classified as Underweight\n"
          ]
        }
      ]
    },
    {
      "cell_type": "code",
      "source": [
        "#writing result into a file\n",
        "filename= \"bmi_results.csv\"\n",
        "#checks if the file actually exists in directory\n",
        "#returns true if the file with that name exists\n",
        "file_exists = os.path.isfile(filename)\n",
        "with open(filename, mode='a', newline='') as file: #append mode\n",
        "    writer = csv.writer(file)\n",
        "    if not file_exists: #only if the file does not exist, start writing results into the file\n",
        "        writer.writerow([\"Name\", \"Weight (kg)\", \"Height (m)\", \"BMI\", \"Category\"])  # Writes this values as Header\n",
        "    writer.writerow([name, weight, height, bmi, category])\n"
      ],
      "metadata": {
        "id": "KtIXqucXkuyI"
      },
      "execution_count": 26,
      "outputs": []
    },
    {
      "cell_type": "code",
      "source": [
        ""
      ],
      "metadata": {
        "id": "qS-ZMqtrnJsP"
      },
      "execution_count": null,
      "outputs": []
    }
  ]
}