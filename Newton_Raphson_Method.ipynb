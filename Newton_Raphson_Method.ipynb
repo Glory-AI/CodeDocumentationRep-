{
  "nbformat": 4,
  "nbformat_minor": 0,
  "metadata": {
    "colab": {
      "provenance": [],
      "authorship_tag": "ABX9TyN/mBdTCFDiK8Vrmk9aju/4",
      "include_colab_link": true
    },
    "kernelspec": {
      "name": "python3",
      "display_name": "Python 3"
    },
    "language_info": {
      "name": "python"
    }
  },
  "cells": [
    {
      "cell_type": "markdown",
      "metadata": {
        "id": "view-in-github",
        "colab_type": "text"
      },
      "source": [
        "<a href=\"https://colab.research.google.com/github/Glory-AI/CodeDocumentationRep-/blob/main/Newton_Raphson_Method.ipynb\" target=\"_parent\"><img src=\"https://colab.research.google.com/assets/colab-badge.svg\" alt=\"Open In Colab\"/></a>"
      ]
    },
    {
      "cell_type": "code",
      "source": [
        "def fact(n):\n",
        "    result = 1\n",
        "    for i in range(1, n+1):\n",
        "        result *= i\n",
        "    return result\n",
        "fact(5)"
      ],
      "metadata": {
        "colab": {
          "base_uri": "https://localhost:8080/"
        },
        "id": "qzkwAJzwncug",
        "outputId": "46da9e80-45ca-4e6f-f5d4-ab36cb7e2543"
      },
      "execution_count": null,
      "outputs": [
        {
          "output_type": "execute_result",
          "data": {
            "text/plain": [
              "120"
            ]
          },
          "metadata": {},
          "execution_count": 2
        }
      ]
    },
    {
      "cell_type": "code",
      "execution_count": 1,
      "metadata": {
        "id": "-H5E5iTfmN-x"
      },
      "outputs": [],
      "source": [
        "def cos(x, terms= 10): # 10 terms is default\n",
        "     x = x % (2 * 3.141592654) #since 2pi is 360 degree and we are working with\n",
        "     # angles in radians here i.e in terms of pi\n",
        "     result= 0 #initializing the result of the cosine function\n",
        "     for n in range(terms):\n",
        "        numerator = ((-1)**n) * ((x**(2*n)))\n",
        "        denominator = fact(2*n)\n",
        "        result += (numerator/denominator)\n",
        "     return result\n",
        "\n",
        "def sin(x, terms= 10): # 10 terms is default\n",
        "     x = x % (2 * 3.141592654)\n",
        "     result= 0\n",
        "     for n in range(terms):\n",
        "        numerator = ((-1)**n) * ((x**((2*n)+1)))\n",
        "        denominator = fact((2*n)+1)\n",
        "        result += (numerator/denominator)\n",
        "     return result\n",
        ""
      ]
    },
    {
      "cell_type": "code",
      "source": [
        "exp= 2.718281828\n",
        "N = 500\n",
        "Epsilon = 0.000000001\n",
        "def fval(t): #this block is responsible for evaluating the function itself\n",
        "  v= 4*t + sin(t) -(exp**t)\n",
        "  return v\n",
        "def dfval(t): #creating function for the differential of the given function\n",
        "  dv= 4 + cos(t) - (exp**t)\n",
        "  return dv\n",
        "xi =float(input('Enter initial approximation:'))\n",
        "print( \"iter.               xk                  f(xk)           Error\")\n",
        "\n",
        "xk= xi\n",
        "fxk= fval(xk)\n",
        "for k in range(1, N+1):\n",
        "  xp= xk #xp holds preceding value since xk will change after each iteration\n",
        "  fxp= fxk\n",
        "  dfxp= dfval(xp)\n",
        "  xk= xp - (fxp/dfxp) #newton raphson's method\n",
        "  fxk= fval(xk) #using the latest approximation for evaluating function\n",
        "  err_or= abs(xk-xp) #calculating difference between successive calculate roots\n",
        "  #in order to detect convergence\n",
        "  print(f\"{k}\\t {xk:.16f}\\t{fxk:.16f}\\t{err_or:.12f}\")\n",
        "  if err_or < Epsilon:\n",
        "    break\n",
        "if err_or < Epsilon:\n",
        "  print('Required accuracy achieved- good convergence')\n",
        "else:\n",
        "  print('You have exceeded maximum limit of iterations')"
      ],
      "metadata": {
        "colab": {
          "base_uri": "https://localhost:8080/"
        },
        "id": "DiGNZMKMrWL2",
        "outputId": "bc5021ca-94e6-4c45-a9eb-46e2e1a5591b"
      },
      "execution_count": null,
      "outputs": [
        {
          "output_type": "stream",
          "name": "stdout",
          "text": [
            "Enter initial approximation:0\n",
            "iter.               xk                  f(xk)           Error\n",
            "1\t 0.2500000000000000\t-0.0366214573790091\t0.250000000000\n",
            "2\t 0.2599382850352131\t-0.0000759982639984\t0.009938285035\n",
            "3\t 0.2599589955157963\t-0.0000000003332450\t0.000020710481\n",
            "4\t 0.2599589956066106\t0.0000000000000000\t0.000000000091\n",
            "Required accuracy ahieved- good convergence\n"
          ]
        }
      ]
    },
    {
      "cell_type": "code",
      "source": [],
      "metadata": {
        "id": "SFPbinTfuAXL"
      },
      "execution_count": null,
      "outputs": []
    }
  ]
}