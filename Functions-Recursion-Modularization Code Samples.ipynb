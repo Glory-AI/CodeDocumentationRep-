{
 "cells": [
  {
   "cell_type": "markdown",
   "id": "7f1f776c-ba12-4448-95dd-a8e193561537",
   "metadata": {},
   "source": [
    "Functions can be a very great tool in the life of a programmer. They help keep our code understandable and reusable. It is convenient and essential for programmers to be able to build, tweak, and use their functions as though they were built-in features of the programming language.\n",
    "\n",
    ":: Function Specification:\n",
    "The specification of a function explains the contract between the user and the implementer. It comprises:\n",
    "- Assumptions: Constraints on actual parameters that must be met by the user when calling the function.\n",
    "- Guarantees: Conditions that the function must fulfill, provided the assumptions are satisfied.\n",
    "\n",
    ":: Modularization:\n",
    "It is often convenient to split functions into multiple smaller ones. This:\n",
    "- Enhances readability and maintainability\n",
    "- Makes debugging easier\n",
    "- Encourages modular programming practices\n",
    "\n",
    ":: Recursion:\n",
    "A recursive function is one that calls itself to solve a problem. Key things to note:\n",
    "It must have at least one base case to stop the recursion.\n",
    "Without a base case, it can run indefinitely and cause an error."
   ]
  },
  {
   "cell_type": "markdown",
   "id": "c6677659-8137-452a-88ff-e1c5b5cc2437",
   "metadata": {},
   "source": [
    "The code below gives an insight to the explanation  I made earlier\n"
   ]
  },
  {
   "cell_type": "code",
   "execution_count": 7,
   "id": "b75a9e12-60aa-45fc-8122-1bb302afc61f",
   "metadata": {},
   "outputs": [
    {
     "name": "stdout",
     "output_type": "stream",
     "text": [
      "5.00030517578125\n"
     ]
    }
   ],
   "source": [
    "#This part of the code will entail using a normal approach to solve a root problem \n",
    "x1 = 25#actual number code is executed upon\n",
    "epsilon = 0.01 #a variable that will be used along the code\n",
    "\n",
    "#a condition block that tests whether number is positive or not in order to find the square root\n",
    "if x1 < 0:\n",
    "    print('Does not exist')\n",
    "else:\n",
    "    #if number is positive, the we can find its square root\n",
    "    #To ensure we have an efficient code that optimizes performance and resources, the bisection method(inary search) will be utilised\n",
    "    #the method is a root finding method that works by repeatedly dividing an interval in which root lies and narrowing down that interval till it finally converges to the root\n",
    "\n",
    "    #identifying intervals:\n",
    "    low= 0 #integer #initialized\n",
    "    high= max(1, x1) # the upper bound will be found between the lowest positive integer and the given positive number(defined)\n",
    "    ans = (high + low)/2 #locates midpoint of interval which is where the answer(square root) lies\n",
    "    #  As long as the difference between estimated square and original is greater than or the same as epsilon which is a small number close to zero,\n",
    "    #if estimated square is less than original, set the estimated root as the lower interval and if estimated square is greater than or equal to original, set estimated root as higher interval\n",
    "    while abs(ans**2 - x1) >= epsilon:\n",
    "        if ans**2 < x1:\n",
    "            low = ans\n",
    "        else:\n",
    "            high = ans\n",
    "        #after going through the if-else condition block, the midpoint is recalculated everytime the while loop runs which explains the narrowing down of the bisection method\n",
    "        ans = (high + low)/ 2\n",
    "#the big if else block ends after iterating through the while loop till it converges\n",
    "square_root_of_x1 = ans #outputs the root the bigger if-else block converges to\n",
    "print(square_root_of_x1)"
   ]
  },
  {
   "cell_type": "code",
   "execution_count": null,
   "id": "2bb43a1f-8161-454e-8260-9f0099ed6151",
   "metadata": {},
   "outputs": [],
   "source": [
    "#To find cube root\n",
    "x2 = -89\n",
    "epsilon= 0.01\n",
    "#the same approach like the square root\n",
    "#but there is a better way to go about this such that whatever code we write, it is reusable and can be applied to the domain of problem being solved \n",
    "if x2 < 0:\n",
    "    #if given number is negative,  \n",
    "    is_pos = False\n",
    "    #then turn it to positive\n",
    "else: #if positive, then leave number as it is\n",
    "    is_pos = True\n",
    "low= 0 #initialize lower interval\n",
    "high = max(1,x2)\n",
    "ans = (high + low)/2\n",
    "while abs(ans**3 - x2) >= epsilon:\n",
    "    if ans**3 < x2:\n",
    "        low= ans\n",
    "    else:\n",
    "        high= ans\n",
    "    ans= (high + low)/ 2\n",
    "# if number is positive, leave ans as it is, if not, negate ans\n",
    "if is_pos:\n",
    "    cube_root_of_x2= ans\n",
    "else:\n",
    "    cube_root_of_x2= -ans\n",
    "    #change the initially negative number back to negative\n",
    "    x2 = -x2\n",
    "\n",
    "print('Sum of square root of', x1, 'and cube root of', x2, 'is estimated as', x1_root + x2_root)\n"
   ]
  },
  {
   "cell_type": "code",
   "execution_count": null,
   "id": "f1e0d307-1850-486c-8a2d-ebee69138a89",
   "metadata": {},
   "outputs": [],
   "source": [
    "#to ensure that the programs written previously can be readable and multiple chunks reduced,\n",
    "#we have to create functions\n",
    "def find_root(x, power, epsilon):\n",
    "    #whether cube/square\n",
    "    #arguments are: x(number to find root of), power(the power to which user wants number to be raised), epsilon(very small number to be used in codeblock)\n",
    "    #Next is to find the interval that will contain te answer like we did for brute force approach in the previous lines of code\n",
    "    if x<0 and power%2 == 0: #telling us that for even powered roots, you can't find the root of a negative number\n",
    "        return None\n",
    "    #setting the low and high intervals where root lies\n",
    "    low= min(-1, x) #-1 is the highest negative number\n",
    "    high= max(1, x) #1 is the lowest positive number\n",
    "    #making use of BISECTION METHOD(that repeatedly divides an interval where root lies and narrowin it down until root is converged to)\n",
    "    ans = (high+low)/2\n",
    "    while abs(ans **power -x) >= epsilon: #this block of code runs as lon as estimated root is not close enough to original \n",
    "        if ans ** power < x: # if estimate dis less than original, set lower boundary to estimate\n",
    "            low= ans\n",
    "        else:\n",
    "            high= ans\n",
    "        ans= (high + low)/2\n",
    "    return ans #function returns estimated root"
   ]
  },
  {
   "cell_type": "code",
   "execution_count": null,
   "id": "d7b8967e-ea3c-47f9-9327-b105435f73d9",
   "metadata": {},
   "outputs": [],
   "source": [
    "#to create a defintion to take care of multiple values of arguments(x, power and epsilon) for optimization\n",
    "def multiple_find_root(x_vals, powers, epsilons): #parameters will be in tuple form\n",
    "    #for each value in each set of arguments, execute find_root() function\n",
    "    for x in x_vals: #the subsequent for loops account for ORDER when moving through arguments\n",
    "        for p in powers:\n",
    "            for e in epsilons:\n",
    "                result= find_root(x,p,e) #calling the previously defined function that takes care of single inputs\n",
    "                if result == None: #which happens when number is negative & has even-powered roots(at the same time)\n",
    "                    val = 'No root exists'\n",
    "                else:\n",
    "                    val= 'Okay'\n",
    "                    if abs(result**p - x) > e:\n",
    "                        val= 'Bad estimate'\n",
    "                print(f'x= {x}, power= {p}, epsilon= {e} : {val} ')"
   ]
  },
  {
   "cell_type": "code",
   "execution_count": null,
   "id": "5ff607be-0a00-41a7-a62c-2806fa7685d2",
   "metadata": {},
   "outputs": [],
   "source": [
    "#example of calling function to print approximations to square root of 25, cube root of -8 and fourth root of 16\n",
    "x_vals= (25, -8, 16) #tuple\n",
    "powers= (2,3,4)\n",
    "epsilons = (0.1, 0.001, 1)\n",
    "test_find_root(x_vals, powers, epsilons) #function call"
   ]
  },
  {
   "cell_type": "code",
   "execution_count": null,
   "id": "dbb11151-9ee6-4711-9f33-05f80c749906",
   "metadata": {},
   "outputs": [],
   "source": [
    "#modularizing code using fuctions\n",
    "\n",
    "#The previously written codes can be reduced to shorter and easily recalled function \n",
    "def find_root_bounds(x,power):\n",
    "    ''' takes in x which is a float and power which is a positive integer\n",
    "    returns low, high bounds such that low**power <= x  and high**power >= x\n",
    "    '''\n",
    "    low= min(-1, x)\n",
    "    high= max(1,x)\n",
    "def bisection_solve(x, power, epsilon, low, high):\n",
    "    \"\"\" x,epsilon,low, high are floats\n",
    "        epsilon is a number greater than 0 ;answer is between low and high\n",
    "        ans**power is within epsilon of x\"\"\"\n",
    "    ans = (high + low)/2\n",
    "    while abs(ans**power -x) >= epsilon:\n",
    "        if ans**power< x:\n",
    "            low=ans\n",
    "        else:\n",
    "            high=ans\n",
    "        ans= (high + low)/2\n",
    "    return ans\n",
    "def find_root(x, power, epsilon):\n",
    "    \"\"\" x is assumed as float and epsilon as int/float, power as int, epsilon>0 and power > -1\n",
    "    returns float y such that y**power is within epsilon of x\n",
    "    \"\"\"\n",
    "    if x<0 and power%2== 0:\n",
    "        return None #since negative number has no even powered roots\n",
    "    low,high = find_root_bounds(x, power)\n",
    "    return bisection_solve(x, power, epsilon, low, high)\n",
    "    \n",
    "    "
   ]
  },
  {
   "cell_type": "code",
   "execution_count": null,
   "id": "2f82e6df-3250-44d7-a468-bb27a8875c57",
   "metadata": {},
   "outputs": [],
   "source": [
    "#evaluate factorial iteratively\n",
    "def fact_iter(n):\n",
    "    \"\"\" assumption is that n is an int > 0,\n",
    "    returns n! \n",
    "    \"\"\"\n",
    "    for i in range(1, n+1):\n",
    "        result *= i #multiplies each number produced by iteration(1*2*3..)\n",
    "    return result\n",
    "#Lets evaluate it i'n the recursive way\n",
    "def fact_in_recurway(n):\n",
    "    \"\"\"assumes n is a positive integer \"\"\"\n",
    "    if n ==1:\n",
    "        return n\n",
    "    else:\n",
    "        return n*fact_in_recurway(n-1)"
   ]
  },
  {
   "cell_type": "code",
   "execution_count": null,
   "id": "c7d2a92f-5fed-4547-a76d-113de0e1e337",
   "metadata": {},
   "outputs": [],
   "source": [
    "#fibonacci series is a series of numbers where each number is a sum of two previous numbers\n",
    "def fib(n):\n",
    "    \"\"\" assumes n is a positive integer\n",
    "    returns the fiboacci of number n\n",
    "    \"\"\"\n",
    "    if n == 0 or n== 1:\n",
    "        return 1 #since 0 is the first non-negative number, we must set this condition\n",
    "    else:\n",
    "        return fib(n-1) + fib(n-2) #the two previous numbers before current number is returned\n",
    "def test_fib(n):\n",
    "    for i in range(n+1):\n",
    "        print('fib of', i, '=', fib(i))\n",
    "\n",
    "test_fib(14)"
   ]
  },
  {
   "cell_type": "code",
   "execution_count": null,
   "id": "884046f0-1ec1-47c5-a916-bb4d8cc8dd53",
   "metadata": {},
   "outputs": [],
   "source": [
    "#writing functions to check if a string is a palindrome \n",
    "def is_palindrome(word):\n",
    "    if word== word[::-1]:  #if backward arrangement is the same as forward\n",
    "        is_palindrome = True\n",
    "    else:\n",
    "        is_palindrome= False\n",
    "    return is_palidrome\n",
    "\n",
    "ans= is_palindrome('Able was I ere I saw Elba')\n",
    "print(ans)"
   ]
  }
 ],
 "metadata": {
  "kernelspec": {
   "display_name": "Python 3 (ipykernel)",
   "language": "python",
   "name": "python3"
  },
  "language_info": {
   "codemirror_mode": {
    "name": "ipython",
    "version": 3
   },
   "file_extension": ".py",
   "mimetype": "text/x-python",
   "name": "python",
   "nbconvert_exporter": "python",
   "pygments_lexer": "ipython3",
   "version": "3.12.7"
  }
 },
 "nbformat": 4,
 "nbformat_minor": 5
}
