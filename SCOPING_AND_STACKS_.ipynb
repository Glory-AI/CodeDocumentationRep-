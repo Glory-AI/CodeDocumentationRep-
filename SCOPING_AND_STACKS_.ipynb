{
  "nbformat": 4,
  "nbformat_minor": 0,
  "metadata": {
    "colab": {
      "provenance": [],
      "authorship_tag": "ABX9TyMIUzsCw70OdpKXZ/F2hCsH",
      "include_colab_link": true
    },
    "kernelspec": {
      "name": "python3",
      "display_name": "Python 3"
    },
    "language_info": {
      "name": "python"
    }
  },
  "cells": [
    {
      "cell_type": "markdown",
      "metadata": {
        "id": "view-in-github",
        "colab_type": "text"
      },
      "source": [
        "<a href=\"https://colab.research.google.com/github/Glory-AI/CodeDocumentationRep-/blob/main/SCOPING_AND_STACKS_.ipynb\" target=\"_parent\"><img src=\"https://colab.research.google.com/assets/colab-badge.svg\" alt=\"Open In Colab\"/></a>"
      ]
    },
    {
      "cell_type": "markdown",
      "source": [
        "SCOPING AND STACKS IN PYTHON\n",
        "\n",
        "The scope of a function can be described as the region where a variable or function is accessible. That's the only region you can make use of that variable.\n",
        "\n",
        "There are three main types of scopes in python: the local, global and built-in scope.\n",
        "\n",
        "Local: variable defined inside a function- can only be used within that function\n",
        "\n",
        "Global: Variables in this type of scope are defined at the top of a module/script and can be accessed throughout the file. To modify them inside a function, you'll need to use the 'global' keyword.\n",
        "\n",
        "Built-in: Functions in this kind of scope are available everywhere e.g the len() function in Python. It is non-modifiable"
      ],
      "metadata": {
        "id": "jDD52HNcPY1E"
      }
    },
    {
      "cell_type": "code",
      "execution_count": null,
      "metadata": {
        "id": "lKOK27dfO3fJ"
      },
      "outputs": [],
      "source": [
        "#this is a code example to explain local scope\n",
        "def my_func():\n",
        "  x= 300\n",
        "  print(x)\n",
        "print(x) #this will give an error because this print function is only available within he my_func() block - local scope"
      ]
    },
    {
      "cell_type": "code",
      "source": [
        "#this is an example to explain global scope\n",
        "x= 300\n",
        "def my_func():\n",
        "  print(x)\n",
        "my_func()\n",
        "print(x) #there will be no error in this case since the variable x has been defined globally\n",
        "\n",
        "#using the global keyword brings a global variable to a local scope if required\n",
        "x= 300\n",
        "def my_func():\n",
        "  global x\n",
        "  x +=1\n",
        "my_func()\n",
        "print(x)"
      ],
      "metadata": {
        "colab": {
          "base_uri": "https://localhost:8080/"
        },
        "id": "NaDx8Jk-Wh_L",
        "outputId": "20315769-e9ff-4791-c163-5c1c090dcea2"
      },
      "execution_count": 1,
      "outputs": [
        {
          "output_type": "stream",
          "name": "stdout",
          "text": [
            "300\n",
            "300\n",
            "301\n"
          ]
        }
      ]
    },
    {
      "cell_type": "code",
      "source": [
        "#this is an example of the built in scope\n",
        "print(len(\"go now\")) #print and len here are functions built in python\n",
        "#to access or view other built in functions\n",
        "import builtins\n",
        "print(dir(builtins))"
      ],
      "metadata": {
        "colab": {
          "base_uri": "https://localhost:8080/"
        },
        "id": "rcTU-d5bY3AK",
        "outputId": "4f161401-11cf-4ddc-8372-b7d89c43c036"
      },
      "execution_count": 2,
      "outputs": [
        {
          "output_type": "stream",
          "name": "stdout",
          "text": [
            "6\n"
          ]
        }
      ]
    },
    {
      "cell_type": "markdown",
      "source": [
        "A STACK is what keeps track of function calls. When a function is called , it is added to the top of the stack(top) and when a function ends, it is removed from the stack(top). Stacking is like a last-in-first-out concept.\n",
        "It is a data structure that helps in function call management."
      ],
      "metadata": {
        "id": "11klsu46aRBD"
      }
    },
    {
      "cell_type": "code",
      "source": [
        "#behaviour is such that my_func(3) calls my_func(2)...\n",
        "#this is how stack is used in recursion..\n",
        "def my_func(x):\n",
        "  print(x)\n",
        "  if x>0:\n",
        "    my_func(x-1)\n",
        "my_func(3)\n"
      ],
      "metadata": {
        "colab": {
          "base_uri": "https://localhost:8080/"
        },
        "id": "UCMt3Yx7bwoD",
        "outputId": "8abb6a63-3b5c-4402-bc68-7a26815fb793"
      },
      "execution_count": 3,
      "outputs": [
        {
          "output_type": "stream",
          "name": "stdout",
          "text": [
            "3\n",
            "2\n",
            "1\n",
            "0\n"
          ]
        }
      ]
    }
  ]
}
