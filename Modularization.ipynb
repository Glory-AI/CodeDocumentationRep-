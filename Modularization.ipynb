{
  "nbformat": 4,
  "nbformat_minor": 0,
  "metadata": {
    "colab": {
      "provenance": [],
      "authorship_tag": "ABX9TyNh+IH2tzQBxAIlXFMN2kgr",
      "include_colab_link": true
    },
    "kernelspec": {
      "name": "python3",
      "display_name": "Python 3"
    },
    "language_info": {
      "name": "python"
    }
  },
  "cells": [
    {
      "cell_type": "markdown",
      "metadata": {
        "id": "view-in-github",
        "colab_type": "text"
      },
      "source": [
        "<a href=\"https://colab.research.google.com/github/Glory-AI/CodeDocumentationRep-/blob/main/Modularization.ipynb\" target=\"_parent\"><img src=\"https://colab.research.google.com/assets/colab-badge.svg\" alt=\"Open In Colab\"/></a>"
      ]
    },
    {
      "cell_type": "markdown",
      "source": [
        "Modularization Of Code Using Functions:\n",
        "\n",
        "There are sometimes we have more complicated functionality required to solve a problem.\n",
        "\n",
        "To handle such cases, it is preferable to break solution into multiple simpler functions.\n",
        "Each of these functions now become stand alone entities i.e they perform a specific task and make sense on their own.\n",
        "\n",
        "How does this fit into modularization?\n",
        "Modularization itself is about breaking a problem into sectional parts/blocks with each block(function) handling a part of the problem."
      ],
      "metadata": {
        "id": "EGirQGRMT2eP"
      }
    },
    {
      "cell_type": "code",
      "source": [
        "#this code is a single function to find the root of a number\n",
        "def find_root(x, power, epsilon):\n",
        "  if x<0 and power%2 == 0: #there is no even powered root of a negative number\n",
        "    return None\n",
        "  #looking for the interval where root lies\n",
        "  low = min(-1, x)\n",
        "  high = max(1, x)\n",
        "  ans = (high + low) / 2 #applying bisection method\n",
        "  while abs(ans**power - x) >= epsilon:\n",
        "    if ans**power < x:\n",
        "      low = ans\n",
        "    else:\n",
        "      high = ans\n",
        "    ans = (high + low) / 2\n",
        "  return ans #function returns estimated root"
      ],
      "metadata": {
        "id": "7S878RYdErlB"
      },
      "execution_count": null,
      "outputs": []
    },
    {
      "cell_type": "code",
      "execution_count": null,
      "metadata": {
        "id": "DrhpEgp5RTZB"
      },
      "outputs": [],
      "source": [
        " #the code below shows how a function modularizes code rather than the all-in-one function above\n",
        " #Instead of a single function definition to find the root of anumber, multiple functions are defined based on significant steps in solving the problem\n",
        " #first step is to determine boundaries where root lies\n",
        " def find_root_bounds( x, power, epsilon):\n",
        "    low = min(-1, x)\n",
        "    high = max(1, x)\n",
        " #next step is to apply the bisection method to the boundaries to narrow down to the root itself\n",
        " def bisection_method(x, power, epsilon, low, high):\n",
        "     ans = (high + low) / 2\n",
        "     while abs(ans**power - x) >= epsilon:\n",
        "         if ans**power < x:\n",
        "             low = ans\n",
        "         else:\n",
        "             high = ans\n",
        "         ans = (high + low) / 2\n",
        "     return ans\n",
        " #then we can now define function for the last process- find root which takes care of some conditions\n",
        " def find_root(x, power, epsilon):\n",
        "     if x<0 and power%2== 0 : #this accounts for negative numbers with even-powered roots which does not exist\n",
        "          return None\n",
        "     low, high = find_root_bounds(x, power, epsilon)  #calling one of the modularized functions to reset boundaries..\n",
        "     return bisection_method(x, power, epsilon, low, high) #also calling a predefined function which keep executing until the condition in its block is met\n",
        "\n",
        "\n",
        "\n"
      ]
    }
  ]
}