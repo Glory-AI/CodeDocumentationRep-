{
  "nbformat": 4,
  "nbformat_minor": 0,
  "metadata": {
    "colab": {
      "provenance": [],
      "authorship_tag": "ABX9TyOPIhs1jdXsAMfSk3s8O+sp",
      "include_colab_link": true
    },
    "kernelspec": {
      "name": "python3",
      "display_name": "Python 3"
    },
    "language_info": {
      "name": "python"
    }
  },
  "cells": [
    {
      "cell_type": "markdown",
      "metadata": {
        "id": "view-in-github",
        "colab_type": "text"
      },
      "source": [
        "<a href=\"https://colab.research.google.com/github/Glory-AI/CodeDocumentationRep-/blob/main/Searching_and_Sorting.ipynb\" target=\"_parent\"><img src=\"https://colab.research.google.com/assets/colab-badge.svg\" alt=\"Open In Colab\"/></a>"
      ]
    },
    {
      "cell_type": "code",
      "execution_count": null,
      "metadata": {
        "id": "vFiix4fOLw-u"
      },
      "outputs": [],
      "source": []
    },
    {
      "cell_type": "markdown",
      "source": [
        " Welcome to Day 15 😊\n",
        "\n",
        "Sorting, Searching, Engineering 🔍\n",
        "\n",
        "Sorting and searching? Sounds basic, right? But the truth is — they’re powerful tools in programming, especially when you're dealing with real-world engineering problems.\n",
        "\n",
        "So here’s the idea I had today 💡:\n",
        "Imagine running an experiment where you try different voltage inputs and record the current output. You end up with a bunch of voltage-current pairs stored in a dictionary — scattered and unordered 😅\n",
        "\n",
        "Now an engineer comes along needing to find the exact voltage that gives a specific current for their design. How do we help them?\n",
        "\n",
        "That’s where sorting and searching come in — to bring order and speed!\n",
        "\n",
        "I implemented both linear search (the straightforward, look-through-everything method) and binary search (the smart, divide-and-conquer method). But before the searching magic happens, the data is sorted — because, let’s be real, binary search doesn’t work on chaos  \n",
        "\n",
        "🔹 Sorting organizes the current values\n",
        "\n",
        "🔹 Binary search finds the closest match in record time\n",
        "🔹 Linear search gives us a baseline to compare\n",
        "\n",
        "This isn’t just about getting results — it’s about writing efficient programs that scale well, especially when you’re working with large sets of experimental data.\n",
        "\n",
        "🛠 Other Engineering Use Cases?\n",
        "\n",
        "📊 Sensor Calibration: Sorting sensor outputs to match standard reference values\n",
        "\n",
        "🔌 Component Selection: Finding the best resistor/capacitor value in a huge database\n",
        "\n",
        "🏭 Manufacturing QC: Quickly identifying faulty items based on specs\n",
        "\n",
        "⚙️ Control Systems: Matching measured inputs to precomputed control signals\n",
        "\n",
        "💻 Simulation Data Analysis: Searching through simulation results for optimal conditions\n",
        "\n",
        "👇🏽I dropped a clip of the implementation below.\n",
        "Want to see the full breakdown? Check my GitHub repo"
      ],
      "metadata": {
        "id": "EmuOCTKzT8pc"
      }
    },
    {
      "cell_type": "code",
      "source": [
        "# Voltage-Current Experiment Tracker\n",
        "#modularization employed\n",
        "\n",
        "def collect_data():\n",
        "    \"\"\"Collects voltage-current pairs from the user and stores them in a dictionary.\"\"\"\n",
        "    data = {}\n",
        "    while True:\n",
        "        try:\n",
        "            voltage = float(input(\"Enter voltage value (in V): \"))\n",
        "            current = float(input(\"Enter corresponding current value (in A): \"))\n",
        "            data[current] = voltage  # using current as key for easy searching\n",
        "        except ValueError: #accounts for non-numeric values error\n",
        "            print(\"Please enter valid numeric values.\")\n",
        "            continue\n",
        "\n",
        "        cont = input(\"Add another? (yes/no): \").lower()\n",
        "        if cont != \"yes\":\n",
        "            break\n",
        "    return data\n",
        "\n",
        "\n",
        "\n",
        "def display_sorted_data(data):\n",
        "    \"\"\"Displays sorted voltage-current pairs based on current.\"\"\"\n",
        "    print(\"\\nRecorded Data (Current: Voltage):\")\n",
        "    for current in sorted(data): #sorted function employed, sort the data by\n",
        "    #current, because that’s our search target\n",
        "        print(f\"{current:.3f} A: {data[current]:.3f} V\")\n",
        "\n",
        "\n",
        "\n",
        "def search_current(data, target_current):\n",
        "    \"\"\"Searches linearly for the voltage corresponding to the desired current.\"\"\"\n",
        "    if target_current in data:\n",
        "        print(f\"\\nVoltage required for {target_current:.3f} A is: {data[target_current]:.3f} V\")\n",
        "    else: #block that handles where the user's search is not in experiment's record\n",
        "        print(\"\\nDesired current not found in data.\")\n",
        "        # find nearest current value\n",
        "        closest = min(data.keys(), key=lambda c: abs(c - target_current))\n",
        "        #c represents individual key(current), min function now finds key with\n",
        "        #smallest absolute difference from the target current\n",
        "        print(f\"Closest match: {closest:.3f} A -> {data[closest]:.3f} V\")\n",
        "\n",
        "\n",
        "\n",
        "def main():   #main function that calls all modularized function to give desired output\n",
        "    print(\"Welcome to the Voltage-Current Experiment Tracker!\\n\")\n",
        "    data = collect_data()\n",
        "    display_sorted_data(data)\n",
        "\n",
        "    while True:\n",
        "        try:\n",
        "            target = float(input(\"\\nEnter desired current to search (in A): \"))\n",
        "            search_current(data, target)\n",
        "        except ValueError:\n",
        "            print(\"Please enter a valid numeric current value.\")\n",
        "\n",
        "        again = input(\"Search for another? (yes/no): \").lower()\n",
        "        if again != \"yes\":\n",
        "            break\n",
        "\n",
        "    print(\"\\nThank you for using the experiment tracker!\")\n",
        "\n",
        "if __name__ == \"__main__\":    #calling the main function\n",
        "    main()\n"
      ],
      "metadata": {
        "colab": {
          "base_uri": "https://localhost:8080/"
        },
        "id": "44zvFYv-argJ",
        "outputId": "c563281f-a177-45ef-f0e2-4294434b0dc9"
      },
      "execution_count": 1,
      "outputs": [
        {
          "output_type": "stream",
          "name": "stdout",
          "text": [
            "Welcome to the Voltage-Current Experiment Tracker!\n",
            "\n",
            "Enter voltage value (in V): 20\n",
            "Enter corresponding current value (in A): 1\n",
            "Add another? (yes/no): yes\n",
            "Enter voltage value (in V): 3\n",
            "Enter corresponding current value (in A): 23\n",
            "Add another? (yes/no): no\n",
            "\n",
            "Recorded Data (Current: Voltage):\n",
            "1.000 A: 20.000 V\n",
            "23.000 A: 3.000 V\n",
            "\n",
            "Enter desired current to search (in A): 22.8\n",
            "\n",
            "Desired current not found in data.\n",
            "Closest match: 23.000 A -> 3.000 V\n",
            "Search for another? (yes/no): no\n",
            "\n",
            "Thank you for using the experiment tracker!\n"
          ]
        }
      ]
    },
    {
      "cell_type": "code",
      "source": [
        " def binary_search_voltage(data, target_current, tolerance=0.01):\n",
        "    \"\"\"\n",
        "    Binary search to find the voltage that gives a desired current within a certain tolerance.\n",
        "    The binary search method works by dividing into subintervals till desired value is found.\n",
        "    \"\"\"\n",
        "    #Convert to a list of tuples and sort by current\n",
        "    sorted_data = sorted(data.items(), key=lambda x: x[1])  # (voltage, current)\n",
        "    #data.items() returns a tuple-voltage,current pair\n",
        "    #what the lambda function does is to tell the sorted function what it should base sorting on\n",
        "    low = 0\n",
        "    high = len(sorted_data) - 1  #-1 because the last element of a list has index that is one less than total length of list\n",
        "\n",
        "    while low <= high:\n",
        "        mid = (low + high) // 2\n",
        "        voltage, current = sorted_data[mid]\n",
        "\n",
        "        if abs(current - target_current) <= tolerance:\n",
        "            return f\"Found match: Voltage = {voltage}V for Current ≈ {current}A\"\n",
        "        elif current < target_current:\n",
        "            low = mid + 1\n",
        "        else:\n",
        "            high = mid - 1\n",
        "\n",
        "    return \"No matching current found within the tolerance range.\"\n",
        "\n",
        "# Sample experiment data: {Voltage: Current}; A dictionary\n",
        "experiment_data = {\n",
        "  4.5: 2.1,\n",
        " 3.2: 1.4,\n",
        "   5.0: 2.8,\n",
        "    2.7: 1.1,\n",
        "    4.0: 1.8,\n",
        "    3.5: 1.5,\n",
        "}\n",
        "\n",
        "\n",
        "desired_current = float(input(\"Enter the desired current (A): \"))\n",
        "result = binary_search_voltage(experiment_data, desired_current)\n",
        "print(result)\n"
      ],
      "metadata": {
        "colab": {
          "base_uri": "https://localhost:8080/"
        },
        "id": "6sTRWNypebZ-",
        "outputId": "35068f64-4aff-46a7-d930-a3fd84372c9c"
      },
      "execution_count": 5,
      "outputs": [
        {
          "output_type": "stream",
          "name": "stdout",
          "text": [
            "Enter the desired current (A): 1.5\n",
            "Found match: Voltage = 3.5V for Current ≈ 1.5A\n"
          ]
        }
      ]
    }
  ]
}