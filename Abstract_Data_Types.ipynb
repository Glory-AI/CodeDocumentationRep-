{
  "nbformat": 4,
  "nbformat_minor": 0,
  "metadata": {
    "colab": {
      "provenance": [],
      "authorship_tag": "ABX9TyNyaHvFzpOCm7m87+DyI5I+",
      "include_colab_link": true
    },
    "kernelspec": {
      "name": "python3",
      "display_name": "Python 3"
    },
    "language_info": {
      "name": "python"
    }
  },
  "cells": [
    {
      "cell_type": "markdown",
      "metadata": {
        "id": "view-in-github",
        "colab_type": "text"
      },
      "source": [
        "<a href=\"https://colab.research.google.com/github/Glory-AI/CodeDocumentationRep-/blob/main/Abstract_Data_Types.ipynb\" target=\"_parent\"><img src=\"https://colab.research.google.com/assets/colab-badge.svg\" alt=\"Open In Colab\"/></a>"
      ]
    },
    {
      "cell_type": "markdown",
      "source": [
        "ABSTRACT DATA TYPES\n",
        "These kind of data types are self created and abstractyed such that you don't see what is going on behind the scene of each line of code.\n",
        "The interaction with this data type is just calling(input) and output i.e how it behaves.\n",
        "\n",
        "It makes code reusable and modular as it focuses on what is produced than how it is done internally... helping you think if a problem at high level not bothering about internal workings. Below is a code illustation of this concept- it is a class definition which has attributes like a name, age etc.. Users of this modular program do not have to bother about how it works, they just call the class methods to interact with it showing the power of abstraction."
      ],
      "metadata": {
        "id": "F0PE8KaQW16b"
      }
    },
    {
      "cell_type": "code",
      "execution_count": 2,
      "metadata": {
        "id": "mSRk_4W_Wt1I"
      },
      "outputs": [],
      "source": [
        "import datetime # we will use this for date objects\n",
        "class Person: #creating a class which is an abstract data type example; the class describes a person with no explanation of how it actually works\n",
        " def __init__(self, name): # constructor method creating a new Person object taking name as input\n",
        "  self._name = name #class attribute which should not be accessed outside the class because of the _ prefix\n",
        " #try except block to extract the last name of name\n",
        "  try:\n",
        "   last_blank = name.rindex(' ')\n",
        "   self._last_name = name[last_blank+1:]\n",
        "  except:\n",
        "   self._last_name = name\n",
        "   self._birthday = None #placeholder for person's birthdate w\n",
        "\n",
        " def get_name(self): #creating public methods to acceshh person's name since it can't be accessed directly.\n",
        "   return self._name\n",
        "\n",
        " def get_last_name(self): #creating method to access last name\n",
        "   return self._last_name\n",
        "\n",
        " def set_birthday(self, birthdate): #this method allows setting of person's\n",
        " #birthday and can be accessed from outside because of its inclusion in the method's argument\n",
        "   self._birthday = birthdate\n",
        "\n",
        " def get_age(self): # This calculates the age in days by subtracting the birthday from today’s date.\n",
        " #If birthday is not set, it raises an error\n",
        "   if self._birthday is None:\n",
        "    raise ValueError(\"Birthday not set\")\n",
        "   return (datetime.date.today() - self._birthday).days\n",
        " #user does not need to know how anything used in definition of these class\n",
        " # methods, just call it e.g get_age() -- ABSTRACTION\n",
        "\n",
        " def __lt__(self, other): #method to compare a person's last name to that of another person\n",
        "   if self._last_name == other._last_name:\n",
        "    return self._name < other._name\n",
        "    return self._last_name < other._last_name\n",
        "\n",
        " def __str__(self): #controls how object is represented as a string returning full name(in string format)\n",
        "    return self._name"
      ]
    },
    {
      "cell_type": "code",
      "source": [
        "#Instantiating an object\n",
        "Person_1= Person('Glory')"
      ],
      "metadata": {
        "id": "GK5yJEpQid1f"
      },
      "execution_count": 6,
      "outputs": []
    },
    {
      "cell_type": "code",
      "source": [
        "Person_1_name= Person_1.get_name() ## Call get_name() method on the Person_1 object\n",
        "print(Person_1_name)"
      ],
      "metadata": {
        "id": "ipmzE5lJj5Mw",
        "outputId": "7a6519b2-fcec-46c8-a8d6-5d545618272e",
        "colab": {
          "base_uri": "https://localhost:8080/"
        }
      },
      "execution_count": 8,
      "outputs": [
        {
          "output_type": "stream",
          "name": "stdout",
          "text": [
            "Glory\n"
          ]
        }
      ]
    }
  ]
}