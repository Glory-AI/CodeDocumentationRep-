{
  "cells": [
    {
      "cell_type": "code",
      "execution_count": null,
      "id": "693e19e8-d21e-47d3-a4e2-bd0d81680918",
      "metadata": {
        "id": "693e19e8-d21e-47d3-a4e2-bd0d81680918"
      },
      "outputs": [],
      "source": [
        "def sum_of_num(number_set): #this is a recursive function to add numbers in an array(can be a list, tuple etc)\n",
        "    if len(number_set) == 0: #this is the base case such that if the count of given numbers is zero, the loop ends\n",
        "        return 0 #since if there is no number at all, no sum\n",
        "    else: #this is the recursive case which keeps executing until base case is met\n",
        "        return number_set[0] + sum_of_num(number_set[1:]) #Take the first number out and solve a smaller version of the problem with the rest\n"
      ]
    },
    {
      "cell_type": "code",
      "execution_count": null,
      "id": "02e183b0-d7b6-42b8-9202-fbf61d0ae51a",
      "metadata": {
        "id": "02e183b0-d7b6-42b8-9202-fbf61d0ae51a",
        "outputId": "7b3c70dc-dfad-42b9-d2d5-a4f1ff36b554"
      },
      "outputs": [
        {
          "name": "stdout",
          "output_type": "stream",
          "text": [
            "15\n"
          ]
        }
      ],
      "source": [
        "#test case of recursive function defined above\n",
        "print(sum_of_num((1,2,3,4,5)))"
      ]
    },
    {
      "cell_type": "code",
      "execution_count": null,
      "id": "33d9b88d-3e34-4370-aca2-41a3b7ba2d06",
      "metadata": {
        "id": "33d9b88d-3e34-4370-aca2-41a3b7ba2d06",
        "outputId": "25e4a2b5-a2ea-4678-b65b-095de3c970d0"
      },
      "outputs": [
        {
          "name": "stdout",
          "output_type": "stream",
          "text": [
            "183\n"
          ]
        }
      ],
      "source": [
        "#another test case\n",
        "print(sum_of_num([5,78,100]))"
      ]
    },
    {
      "cell_type": "code",
      "execution_count": null,
      "id": "85d29f52-41a0-481e-a998-0cd7d2f6a5fd",
      "metadata": {
        "id": "85d29f52-41a0-481e-a998-0cd7d2f6a5fd",
        "outputId": "fe319d4d-7b77-447b-8f2f-a50c4c6f5763"
      },
      "outputs": [
        {
          "name": "stdin",
          "output_type": "stream",
          "text": [
            "What is the topic you are currently on: Mathematics\n",
            "Enter subtopic list with space between each Limits Divergence Curl\n",
            "Do you understand Mathematics? Type \"Understood\" or \"No\": No\n"
          ]
        },
        {
          "name": "stdout",
          "output_type": "stream",
          "text": [
            "Break down Mathematics and seek help to understand it better.\n"
          ]
        },
        {
          "name": "stdin",
          "output_type": "stream",
          "text": [
            "Do you understand Limits? Type \"Understood\" or \"No\": Understood\n",
            "Do you understand Divergence? Type \"Understood\" or \"No\": No\n"
          ]
        },
        {
          "name": "stdout",
          "output_type": "stream",
          "text": [
            "Break down Divergence and seek help to understand it better.\n"
          ]
        },
        {
          "name": "stdin",
          "output_type": "stream",
          "text": [
            "Do you understand Curl? Type \"Understood\" or \"No\": Understood\n"
          ]
        },
        {
          "data": {
            "text/plain": [
              "'Now, Mathematics is fully understood, Move on to the next'"
            ]
          },
          "execution_count": 1,
          "metadata": {},
          "output_type": "execute_result"
        }
      ],
      "source": [
        "#this is an example to explain the power of recursion\n",
        "#It is based on learning a particular topic which is defined as a function\n",
        "#And for every topic, there are subtopic(s) where the procedure applied to the general topic is recalled per topic(a smaller version of the bigger problem)\n",
        "#topic and subtopic variables below receives input from user\n",
        "topic= input('What is the topic you are currently on:')\n",
        "subtopic=  input('Enter subtopic list with space between each').split()\n",
        "#function definition:\n",
        "def learn_course(topic, subtopic_list):\n",
        "     #x variable takes input from user based on a question\n",
        "     x=  input(f'Do you understand {topic}? Type \"Understood\" or \"No\":')\n",
        "     if x == 'Understood': #BASE CASE\n",
        "            return 'Move on to next topic in the course'\n",
        "            \"\"\"if the topic/subtopic is understood, base case is met and function ends \"\"\"\n",
        "     else:\n",
        "      \"\"\"This else block runs until base case is finally met\"\"\"\n",
        "         print(f'Break down {topic} and seek help to understand it better.')\n",
        "         for i in subtopic_list:\n",
        "               learn_course(i, []) # RECURSIVE CASE #[] means an empty list is passed since sub-subtopics are not provided\n",
        "               #But for every subtopic in a topic, function recalls itself\n",
        "         return f'Now, {topic} is fully understood, Move on to the next'\n",
        "learn_course(topic, subtopic)"
      ]
    },
    {
      "cell_type": "code",
      "execution_count": null,
      "id": "4f159033-bf7d-4a8d-b005-83d68e9e3a78",
      "metadata": {
        "id": "4f159033-bf7d-4a8d-b005-83d68e9e3a78"
      },
      "outputs": [],
      "source": []
    }
  ],
  "metadata": {
    "kernelspec": {
      "display_name": "Python 3 (ipykernel)",
      "language": "python",
      "name": "python3"
    },
    "language_info": {
      "codemirror_mode": {
        "name": "ipython",
        "version": 3
      },
      "file_extension": ".py",
      "mimetype": "text/x-python",
      "name": "python",
      "nbconvert_exporter": "python",
      "pygments_lexer": "ipython3",
      "version": "3.12.7"
    },
    "colab": {
      "provenance": []
    }
  },
  "nbformat": 4,
  "nbformat_minor": 5
}